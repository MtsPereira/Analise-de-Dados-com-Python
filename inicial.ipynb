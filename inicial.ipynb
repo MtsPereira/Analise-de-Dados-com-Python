{
 "cells": [
  {
   "cell_type": "code",
   "execution_count": null,
   "metadata": {},
   "outputs": [],
   "source": [
    "# Passo a passo do projeto\n",
    "# Passo 1: Importar a base dados de clientes\n",
    "# Passo 2: Visualizar a base de dados\n",
    "# Passo 3: Corrigir as cagadas da base de dados\n",
    "# Passo 4: Análise dos cancelamentos\n",
    "# Passo 5: Análise da causa do cancelamento\n",
    "# !pip install nbformat ipykernel plotly"
   ]
  },
  {
   "cell_type": "code",
   "execution_count": null,
   "metadata": {},
   "outputs": [],
   "source": [
    "# Passo 1: Importar a base dados de clientes\n",
    "import pandas as pd\n",
    "tabela = pd.read_csv(\"cancelamentos_sample.csv\")\n",
    "\n",
    "# Passo 2: Visualizar a base de dados\n",
    "# colunas inúteis - informações que não ajudam, te atrapalham\n",
    "tabela = tabela.drop(columns=\"CustomerID\")\n",
    "display(tabela)"
   ]
  },
  {
   "cell_type": "code",
   "execution_count": null,
   "metadata": {},
   "outputs": [],
   "source": [
    "# Passo 3: Corrigir as cagadas da base de dados\n",
    "# Valores vazios - erros de preenchimento\n",
    "display(tabela.info())\n",
    "tabela = tabela.dropna()\n",
    "display(tabela.info())"
   ]
  },
  {
   "cell_type": "code",
   "execution_count": null,
   "metadata": {},
   "outputs": [],
   "source": [
    "# Passo 4: Análise dos cancelamentos\n",
    "display(tabela[\"cancelou\"].value_counts())\n",
    "display(tabela[\"cancelou\"].value_counts(normalize=True))\n",
    "display(tabela[\"cancelou\"].value_counts(normalize=True).map(\"{:.1%}\".format))\n"
   ]
  },
  {
   "cell_type": "code",
   "execution_count": null,
   "metadata": {},
   "outputs": [],
   "source": [
    "# Passo 5: Análise da causa do cancelamento\n",
    "import plotly.express as px\n",
    "\n",
    "# criar o gráfico\n",
    "# para cada coluna da minha tabela\n",
    "for coluna in tabela.columns:\n",
    "    grafico = px.histogram(tabela, x=coluna, color=\"cancelou\")\n",
    "\n",
    "    # exibe o gráfico\n",
    "    grafico.show()"
   ]
  },
  {
   "cell_type": "code",
   "execution_count": null,
   "metadata": {},
   "outputs": [],
   "source": [
    "# análise das causas de cancelamento\n",
    "\n",
    "# se um cliente ligar mais de 4 vezes para o call center, ele cancela\n",
    "    # criar um processo que se um cliente ligou 3 vezes, a gente faz de tudo pra resolver o problema\n",
    "\n",
    "# se um cliente atrasar o pagamento mais de 20 dias, ele cancela\n",
    "    # criar um processo para não deixar o cliente atrasar o pagamento mais de 20 dias\n",
    "\n",
    "# todos os clientes do contrato mensal cancelam\n",
    "    # oferecer descoto nos planos anuais e trimestrais\n",
    "\n",
    "tabela = tabela[tabela[\"duracao_contrato\"]!=\"Monthly\"] # sem duração do contrato mensal\n",
    "tabela = tabela[tabela[\"ligacoes_callcenter\"]<=4] # sem ligação do call center acima 4 vezes\n",
    "tabela = tabela[tabela[\"dias_atraso\"]<=20] # sem atraso de pagamento maior do que 20 dias\n",
    "\n",
    "display(tabela[\"cancelou\"].value_counts(normalize=True))"
   ]
  }
 ],
 "metadata": {
  "language_info": {
   "name": "python"
  }
 },
 "nbformat": 4,
 "nbformat_minor": 2
}
